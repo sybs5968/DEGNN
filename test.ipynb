{
 "cells": [
  {
   "cell_type": "code",
   "execution_count": null,
   "metadata": {},
   "outputs": [],
   "source": [
    "import utils\n",
    "path = r\"data/link_prediction/facebook/edges.txt\"\n",
    "nodes = []\n",
    "with open(path) as f:\n",
    "    for line in f.readlines():\n",
    "        nodes.extend(line.strip().split()[:2])\n",
    "nodes = sorted(list(set(nodes)))\n",
    "print(len(nodes))"
   ]
  }
 ],
 "metadata": {
  "kernelspec": {
   "display_name": "degnn-env",
   "language": "python",
   "name": "python3"
  },
  "language_info": {
   "name": "python",
   "version": "3.8.2"
  }
 },
 "nbformat": 4,
 "nbformat_minor": 2
}
