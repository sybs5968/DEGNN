{
 "cells": [
  {
   "cell_type": "code",
   "execution_count": 2,
   "metadata": {},
   "outputs": [
    {
     "name": "stdout",
     "output_type": "stream",
     "text": [
      "{'0'}\n",
      "0\n",
      "176468\n",
      "0\n",
      "0\n",
      "0\n"
     ]
    }
   ],
   "source": [
    "import utils\n",
    "path = r\"data/link_prediction/facebook/edges.txt\"\n",
    "nodes = []\n",
    "with open(path) as f:\n",
    "    for line in f.readlines():\n",
    "        # print(line.strip().split()[:2])\n",
    "        nodes.extend(line.strip().split()[:2])\n",
    "        # break\n",
    "print(set(nodes[0]))\n",
    "print(nodes[0])\n",
    "# nodes = sorted(list(set(nodes)))\n",
    "print(len(nodes))\n",
    "print(nodes[0])\n",
    "for new_id , old_id in enumerate(nodes):\n",
    "    print(new_id)\n",
    "    print(old_id)\n",
    "    break"
   ]
  },
  {
   "cell_type": "code",
   "execution_count": 26,
   "metadata": {},
   "outputs": [
    {
     "name": "stdout",
     "output_type": "stream",
     "text": [
      "tensor([ 40,  85, 135, 190])\n",
      "tensor([ 40,  85, 135])\n",
      "tensor([  0,  40,  85, 135])\n"
     ]
    }
   ],
   "source": [
    "import torch\n",
    "A = torch.arange(20).resize(5 , 4)\n",
    "A = A.sum(dim=0)\n",
    "print(torch.cumsum(A , dim=0))\n",
    "\n",
    "print(torch.cumsum(A , dim=0)[:-1])\n",
    "print(torch.cat([torch.tensor([0]) , torch.cumsum(A , dim=0)[:-1]]))\n",
    "tm = torch.cat([torch.tensor([0]) , torch.cumsum(A , dim=0)[:-1]])\n",
    "tm = tm.unsqueeze(1)\n",
    "print(tm)"
   ]
  }
 ],
 "metadata": {
  "kernelspec": {
   "display_name": "degnn-env",
   "language": "python",
   "name": "python3"
  },
  "language_info": {
   "codemirror_mode": {
    "name": "ipython",
    "version": 3
   },
   "file_extension": ".py",
   "mimetype": "text/x-python",
   "name": "python",
   "nbconvert_exporter": "python",
   "pygments_lexer": "ipython3",
   "version": "3.8.2"
  }
 },
 "nbformat": 4,
 "nbformat_minor": 2
}
