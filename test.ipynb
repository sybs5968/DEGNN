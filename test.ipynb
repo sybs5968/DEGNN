{
 "cells": [
  {
   "cell_type": "code",
   "execution_count": 1,
   "metadata": {},
   "outputs": [],
   "source": [
    "import os\n",
    "import sys\n",
    "import argparse\n",
    "from utils import *\n",
    "from train import *\n",
    "from models import *\n",
    "from datetime import datetime\n"
   ]
  },
  {
   "cell_type": "code",
   "execution_count": 2,
   "metadata": {},
   "outputs": [
    {
     "name": "stderr",
     "output_type": "stream",
     "text": [
      "usage: myDEGNN's Interface [-h] [--lr LR] [--wd WD] [--seed SEED]\n",
      "                           [--model MODEL] [--epoch EPOCH] [--layers LAYERS]\n",
      "                           [--dropout DROPOUT] [--dataset DATASET]\n",
      "                           [--feature FEATURE] [--test_ratio TEST_RATIO]\n",
      "                           [--prop_depth PROP_DEPTH]\n",
      "                           [--hidden_features HIDDEN_FEATURES]\n",
      "                           [--feature_limit FEATURE_LIMIT]\n",
      "                           [--log_path LOG_PATH] [--metric METRIC]\n",
      "myDEGNN's Interface: error: ambiguous option: --f=/root/.local/share/jupyter/runtime/kernel-v2-19352677PNydWIwhe.json could match --feature, --feature_limit\n"
     ]
    },
    {
     "ename": "SystemExit",
     "evalue": "2",
     "output_type": "error",
     "traceback": [
      "An exception has occurred, use %tb to see the full traceback.\n",
      "\u001b[0;31mSystemExit\u001b[0m\u001b[0;31m:\u001b[0m 2\n"
     ]
    },
    {
     "name": "stderr",
     "output_type": "stream",
     "text": [
      "/root/miniconda3/envs/degnn-env/lib/python3.8/site-packages/IPython/core/interactiveshell.py:3516: UserWarning: To exit: use 'exit', 'quit', or Ctrl-D.\n",
      "  warn(\"To exit: use 'exit', 'quit', or Ctrl-D.\", stacklevel=1)\n"
     ]
    }
   ],
   "source": [
    "parser = argparse.ArgumentParser(\"myDEGNN's Interface\")\n",
    "parser.add_argument(\"--lr\"              , type=float , default=1e-4)\n",
    "parser.add_argument(\"--wd\"              , type=float , default=0)\n",
    "parser.add_argument(\"--seed\"            , type=float , default=0)\n",
    "parser.add_argument(\"--model\"           , type=str   , default=\"DE-GNN\")\n",
    "parser.add_argument(\"--epoch\"           , type=int   , default=100)\n",
    "parser.add_argument(\"--layers\"          , type=int   , default=2)\n",
    "parser.add_argument(\"--dropout\"         , type=float , default=0)\n",
    "parser.add_argument(\"--dataset\"         , type=str   , default=\"celegans_small\")\n",
    "parser.add_argument(\"--feature\"         , type=str   , default=\"sp\")\n",
    "parser.add_argument(\"--test_ratio\"      , type=float , default=0.2)\n",
    "parser.add_argument(\"--prop_depth\"      , type=int   , default=1)\n",
    "parser.add_argument(\"--hidden_features\" , type=int   , default=128)\n",
    "\n",
    "parser.add_argument(\"--feature_limit\"   , type=int   , default=3)\n",
    "\n",
    "parser.add_argument(\"--log_path\"        , type=str   , default=\"./log\")\n",
    "parser.add_argument(\"--metric\"          , type=str   , default=\"acc\")\n",
    "args = parser.parse_args()\n",
    "error_massgae = check(args)\n",
    "if error_massgae:\n",
    "    print(\"Error: \" + error_massgae)\n",
    "    exit(0)\n",
    "\n"
   ]
  },
  {
   "cell_type": "code",
   "execution_count": null,
   "metadata": {},
   "outputs": [],
   "source": [
    "log_path = os.path.join(args.log_path , args.dataset)\n",
    "\n",
    "if not os.path.exists(log_path):\n",
    "    os.makedirs(log_path)\n",
    "\n",
    "log_filename = datetime.now().strftime(\"%m-%d_%H:%M:%S\") + '_' + args.feature + '_' + str(args.epoch) + \".txt\"\n",
    "\n",
    "logger = open(log_path + '/' + log_filename , \"w\")\n",
    "\n",
    "set_random_seed(args.seed)\n",
    "\n",
    "G , labels , task = read_file(args)\n",
    "print(\"YES ONE\")\n",
    "train_loader , val_loader , test_loader , feature_out = get_data(G , labels , task , args)\n",
    "print(\"YES TOW\")\n",
    "model = GNNModel(in_features = train_loader.dataset[0].x.shape[-1] , hidden_features=128 , out_features = feature_out , model_name  = args.model)\n",
    "print(\"YES THREE\")\n",
    "train_model(train_loader , val_loader , test_loader , model , args , logger)"
   ]
  },
  {
   "cell_type": "code",
   "execution_count": 5,
   "metadata": {},
   "outputs": [
    {
     "name": "stdout",
     "output_type": "stream",
     "text": [
      "YES ONE\n",
      "100%|██████████████████████████████████████| 1140/1140 [00:05<00:00, 215.88it/s]\n",
      "/root/myDEGNN/utils.py:255: FutureWarning: The input object of type 'Tensor' is an array-like implementing one of the corresponding protocols (`__array__`, `__array_interface__` or `__array_struct__`); but not a sequence (or 0-D). In the future, this object will be coerced as if it was first converted using `np.array(obj)`. To retain the old behaviour, you have to either modify the type 'Tensor', or assign to an empty array created with `np.empty(correct_shape, dtype=object)`.\n",
      "  val_test_labels = np.array([data_list[i].y for i in val_test_indices])\n",
      "/root/myDEGNN/utils.py:255: VisibleDeprecationWarning: Creating an ndarray from ragged nested sequences (which is a list-or-tuple of lists-or-tuples-or ndarrays with different lengths or shapes) is deprecated. If you meant to do this, you must specify 'dtype=object' when creating the ndarray.\n",
      "  val_test_labels = np.array([data_list[i].y for i in val_test_indices])\n",
      "/root/miniconda3/envs/degnn-env/lib/python3.8/site-packages/torch_geometric/deprecation.py:22: UserWarning: 'data.DataLoader' is deprecated, use 'loader.DataLoader' instead\n",
      "  warnings.warn(out)\n",
      "YES TOW\n",
      "YES THREE\n",
      "<Figure size 350x250 with 1 Axes>\n",
      "<Figure size 350x250 with 1 Axes>\n",
      "^C2K\n",
      "Traceback (most recent call last):\n",
      "  File \"main.py\", line 52, in <module>\n",
      "    train_model(train_loader , val_loader , test_loader , model , args , logger)\n",
      "  File \"/root/myDEGNN/train.py\", line 56, in train_model\n",
      "    train_loss, train_acc, train_auc = eval_model(model, train_loader)\n",
      "  File \"/root/myDEGNN/train.py\", line 86, in eval_model\n",
      "    prediction = model(batch)\n",
      "  File \"/root/miniconda3/envs/degnn-env/lib/python3.8/site-packages/torch/nn/modules/module.py\", line 1130, in _call_impl\n",
      "    return forward_call(*input, **kwargs)\n",
      "  File \"/root/myDEGNN/models.py\", line 22, in forward\n",
      "    x = layer(x , edge_index , edge_weight = None)\n",
      "  File \"/root/miniconda3/envs/degnn-env/lib/python3.8/site-packages/torch/nn/modules/module.py\", line 1130, in _call_impl\n",
      "    return forward_call(*input, **kwargs)\n",
      "  File \"/root/miniconda3/envs/degnn-env/lib/python3.8/site-packages/torch_geometric/nn/conv/tag_conv.py\", line 90, in forward\n",
      "    x = self.propagate(edge_index, x=x, edge_weight=edge_weight,\n",
      "  File \"/root/miniconda3/envs/degnn-env/lib/python3.8/site-packages/torch_geometric/nn/conv/message_passing.py\", line 463, in propagate\n",
      "    out = self.message(**msg_kwargs)\n",
      "  File \"/root/miniconda3/envs/degnn-env/lib/python3.8/site-packages/torch_geometric/nn/conv/tag_conv.py\", line 100, in message\n",
      "    return x_j if edge_weight is None else edge_weight.view(-1, 1) * x_j\n",
      "KeyboardInterrupt\n"
     ]
    }
   ],
   "source": [
    "%matplotlib inline\n",
    "import matplotlib.pyplot as plt\n",
    "!python main.py\n",
    "plt.show()"
   ]
  }
 ],
 "metadata": {
  "kernelspec": {
   "display_name": "degnn-env",
   "language": "python",
   "name": "python3"
  },
  "language_info": {
   "codemirror_mode": {
    "name": "ipython",
    "version": 3
   },
   "file_extension": ".py",
   "mimetype": "text/x-python",
   "name": "python",
   "nbconvert_exporter": "python",
   "pygments_lexer": "ipython3",
   "version": "3.8.2"
  }
 },
 "nbformat": 4,
 "nbformat_minor": 2
}
